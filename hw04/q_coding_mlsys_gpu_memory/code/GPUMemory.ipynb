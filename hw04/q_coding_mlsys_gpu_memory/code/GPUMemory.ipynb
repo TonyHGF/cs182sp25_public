{
 "cells": [
  {
   "cell_type": "markdown",
   "metadata": {
    "id": "X2sWcYziBrUj"
   },
   "source": [
    "# Memory considerations when training Neural Networks on GPUs\n",
    "\n",
    "In this homework, we will train a ResNet model on CIFAR-10 using PyTorch and explore it's implications on GPU memory.\n",
    "\n",
    "We will explore various systems considerations, such as the effect of batch size\n",
    "on memory usage, the effect of different optimizers (SGD, SGD with momentum, Adam), and we will try to minimize the memory usage of training our model by applying gradient accumulation.\n"
   ]
  },
  {
   "cell_type": "markdown",
   "metadata": {
    "id": "UVeTO39_LoOW"
   },
   "source": [
    "## Setup the environment"
   ]
  },
  {
   "cell_type": "markdown",
   "metadata": {
    "id": "gOIdwf6aO2A4"
   },
   "source": [
    "If you're running on colab - make sure you are using a GPU runtime. You can select a GPU runtime by clicking on `Runtime` -> `Change Runtime Type`.\n",
    "\n",
    "> 💡 Hint - if you hit your colab GPU usage limit, try again in a few hours."
   ]
  },
  {
   "cell_type": "code",
   "execution_count": 5,
   "metadata": {
    "colab": {
     "base_uri": "https://localhost:8080/"
    },
    "id": "ey9qkAfLMgm2",
    "outputId": "548b9045-3a5a-4f55-e122-b7c223192281"
   },
   "outputs": [],
   "source": [
    "#@title Mount your Google Drive\n",
    "\n",
    "# import os\n",
    "# from google.colab import drive\n",
    "\n",
    "# try:\n",
    "#   drive.mount('/content/gdrive')\n",
    "\n",
    "#   DRIVE_PATH = '/content/gdrive/My\\ Drive/cs182hw4_sp25'\n",
    "#   DRIVE_PYTHON_PATH = DRIVE_PATH.replace('\\\\', '')\n",
    "#   if not os.path.exists(DRIVE_PYTHON_PATH):\n",
    "#     %mkdir $DRIVE_PATH\n",
    "\n",
    "#   ## the space in `My Drive` causes some issues,\n",
    "#   ## make a symlink to avoid this\n",
    "#   SYM_PATH = '/content/cs182hw4'\n",
    "#   if os.path.isdir(SYM_PATH):\n",
    "#     raise Exception(f\"Path already exists - please delete {SYM_PATH} before mounting again.\")\n",
    "#   else:\n",
    "#     !ln -sf $DRIVE_PATH $SYM_PATH\n",
    "# except Exception as e:\n",
    "#   print(e)\n",
    "#   print(\"WARNING - Unable to mount google drive for storing logs. Storing logs in the runtime. Please keep downloading the logs to avoid losing data if the runtime terminates.\")\n",
    "#   os.makedirs('/content/cs182hw4/', exist_ok=True)"
   ]
  },
  {
   "cell_type": "code",
   "execution_count": null,
   "metadata": {
    "colab": {
     "base_uri": "https://localhost:8080/"
    },
    "id": "QUQyoFYBLS3H",
    "outputId": "d918a1a5-523b-4149-de11-fd7892d06bc3"
   },
   "outputs": [],
   "source": [
    "#@title Install dependencies\n",
    "\n",
    "# !pip install gputil --quiet"
   ]
  },
  {
   "cell_type": "code",
   "execution_count": 7,
   "metadata": {
    "colab": {
     "base_uri": "https://localhost:8080/"
    },
    "id": "leJM2aNIOtRH",
    "outputId": "18c88951-cbb6-438e-c676-b731d45c92fd"
   },
   "outputs": [
    {
     "name": "stdout",
     "output_type": "stream",
     "text": [
      "Using GPU.\n"
     ]
    }
   ],
   "source": [
    "import gc\n",
    "import GPUtil\n",
    "import os\n",
    "import subprocess\n",
    "import torch\n",
    "import torchvision\n",
    "import torchvision.transforms as transforms\n",
    "import numpy as np\n",
    "import matplotlib.pyplot as plt\n",
    "import pandas as pd\n",
    "import random\n",
    "import time\n",
    "\n",
    "\n",
    "ROOT_PATH = '/content/cs182hw4/'\n",
    "\n",
    "# Define the CSV format for logging memory usage. Used later in this notebook.\n",
    "MEMORY_LOG_FMT = ['timestamp', 'memUsage']\n",
    "TRAIN_LOG_FMT = ['timestamp', 'epoch', 'memUsage', 'loss', 'accuracy']\n",
    "\n",
    "if torch.cuda.is_available():\n",
    "  print(\"Using GPU.\")\n",
    "  device = torch.device(\"cuda:0\")\n",
    "else:\n",
    "  print(\"!!! WARNING !!! - Could not find a GPU - please use a GPU for this homework! If you're on Colab, change your runtime to GPU.\")\n",
    "  device = torch.device(\"cpu\")\n",
    "\n",
    "%matplotlib inline\n",
    "%load_ext autoreload\n",
    "%autoreload 2"
   ]
  },
  {
   "cell_type": "markdown",
   "metadata": {
    "id": "akM0PvICPfQz"
   },
   "source": [
    "### Define helper functions and download CIFAR-10 dataset"
   ]
  },
  {
   "cell_type": "code",
   "execution_count": 8,
   "metadata": {
    "colab": {
     "base_uri": "https://localhost:8080/"
    },
    "id": "dGbpzrznPvqi",
    "outputId": "66020032-d45e-4d4a-e66f-ed7678618e3e"
   },
   "outputs": [
    {
     "name": "stdout",
     "output_type": "stream",
     "text": [
      "Files already downloaded and verified\n",
      "Files already downloaded and verified\n"
     ]
    }
   ],
   "source": [
    "seed = 42\n",
    "torch.manual_seed(seed)\n",
    "random.seed(seed)\n",
    "np.random.seed(seed)\n",
    "\n",
    "def get_allocated_memory_str():\n",
    "    return \"Allocated memory: {:.2f} GB\".format(torch.cuda.memory_allocated(device) / 1e9)\n",
    "\n",
    "def run_nvidia_smi():\n",
    "    if torch.cuda.is_available():\n",
    "      print(subprocess.check_output(\"nvidia-smi\", shell=True).decode(\"utf-8\"))\n",
    "    else:\n",
    "      print(\"Running on CPU\")\n",
    "\n",
    "def get_gpu_memory_usage() -> float:\n",
    "    # Use GPUtil python library to get GPU memory usage\n",
    "    if torch.cuda.is_available():\n",
    "      return GPUtil.getGPUs()[0].memoryUsed\n",
    "    else:\n",
    "      return 0\n",
    "\n",
    "def cleanup_memory():\n",
    "    gc.collect()\n",
    "    torch.cuda.empty_cache()\n",
    "\n",
    "# Define transformations for the input data. We resize the 32x32 inputs to \n",
    "# 224x224 which is the input shape for the ResNet family of models.\n",
    "transform = transforms.Compose([\n",
    "    transforms.Resize((224, 224)), # Resize to 224x224 for ResNet models\n",
    "    transforms.ToTensor()\n",
    "])\n",
    "\n",
    "data_train = torchvision.datasets.CIFAR10(root='./data', train=True, download=True, transform=transform)\n",
    "data_test = torchvision.datasets.CIFAR10(root='./data', train=False, download=True, transform=transform)\n",
    "\n",
    "\n",
    "# We randomly subsample the dataset here to train our models faster for this notebook\n",
    "SUBSAMPLE_SIZE = 1024*4\n",
    "random_sample_idxs = torch.randint(len(data_train), (SUBSAMPLE_SIZE,))\n",
    "subsampled_train_data = torch.utils.data.Subset(data_train, indices=random_sample_idxs)"
   ]
  },
  {
   "cell_type": "markdown",
   "metadata": {
    "id": "0LI96hOtTbGR"
   },
   "source": [
    "# 1. Managing GPU memory when training deep models\n",
    "One of the most common bottlenecks you will run into when training your deep learning models is the amount of GPU memory available to you. The exact memory usage of your training process depends on the specific model architecture and the size of the input data. The main components taking up GPU memory during training are:\n",
    "\n",
    "* **Model Parameters**: The weights and biases of the model are stored in GPU memory during training. The number of parameters in a deep learning model can range from a few thousand to millions or even billions, depending on the model architecture and the size of the input data.\n",
    "\n",
    "* **Activations**: The activations of each layer of the model are stored in GPU memory during the forward pass. The size of the activations can depend on the batch size and the number of hidden units in each layer. As the batch size increases, so does the size of the activations, which can quickly consume a large amount of GPU memory.\n",
    "\n",
    "* **Gradients**: During the backward pass, the gradients of each layer with respect to the loss function are computed and stored in GPU memory. The size of the gradients can depend on the batch size and the number of hidden units in each layer. Like activations, larger batch sizes can lead to larger gradients and increased memory usage.\n",
    "\n",
    "* **Input Data**: The input data, such as images or text, can also take up GPU memory during training. The size of the input data can depend on the input shape and the batch size.\n",
    "\n",
    "* **Optimizer State**: The state of the optimizer, such as the momentum or running average of gradients, is stored in GPU memory during training. The size of the optimizer state can depend on the optimizer algorithm and the size of the model parameters.\n",
    "\n",
    "## Let's analyze the ResNet-152 model and CIFAR-10 input sizes\n",
    "\n",
    "We can count the number of parameters in the model by loading it and inspecting it. Once we know the number of parameters, we can estimate the model size by multiplying the number of parameters with the size of each parameter."
   ]
  },
  {
   "cell_type": "code",
   "execution_count": 9,
   "metadata": {
    "id": "yBCjqoeaYxgw"
   },
   "outputs": [],
   "source": [
    "def analyze_model_and_inputs(model):\n",
    "    print(\"Train data size: {}\".format(len(data_train)))\n",
    "    print(\"Test data size: {}\".format(len(data_test)))\n",
    "    \n",
    "    # Fetch an example image to get image size\n",
    "    image, label = data_train[0]\n",
    "    print(\"Image input size: {}\".format(image.size()))\n",
    "\n",
    "    # Get model parameter count\n",
    "    print(\"Model parameters: {}\".format(sum(p.numel() for p in model.parameters() if p.requires_grad)))\n",
    "\n",
    "    # Get model size in MB\n",
    "    print(\"Model size estimate (MB): {}\".format(sum(p.numel() * p.element_size() for p in model.parameters()) / 1e6))"
   ]
  },
  {
   "cell_type": "code",
   "execution_count": 10,
   "metadata": {
    "colab": {
     "base_uri": "https://localhost:8080/"
    },
    "id": "229oW1WnDRxT",
    "outputId": "c6c67484-5e01-4ee8-c460-ebdf2b010bfd"
   },
   "outputs": [
    {
     "name": "stdout",
     "output_type": "stream",
     "text": [
      "Train data size: 50000\n",
      "Test data size: 10000\n",
      "Image input size: torch.Size([3, 224, 224])\n",
      "Model parameters: 58164298\n",
      "Model size estimate (MB): 232.657192\n"
     ]
    }
   ],
   "source": [
    "model = torchvision.models.resnet152(weights=None, num_classes=10)\n",
    "model.to(device)  # Load the model into GPU memory\n",
    "analyze_model_and_inputs(model)"
   ]
  },
  {
   "cell_type": "markdown",
   "metadata": {
    "id": "jtP0AZToaRL-"
   },
   "source": [
    "## Let's get to know our GPU better\n",
    "\n",
    "Now that we have loaded the model onto the GPU, we will now use the `nvidia-smi` utility to measure the GPU memory utilization."
   ]
  },
  {
   "cell_type": "code",
   "execution_count": 11,
   "metadata": {
    "colab": {
     "base_uri": "https://localhost:8080/"
    },
    "id": "5aUg0RgDaV92",
    "outputId": "a1cb62a6-17d9-44dc-b69e-ca79bbc4dd5b"
   },
   "outputs": [
    {
     "name": "stdout",
     "output_type": "stream",
     "text": [
      "Sun Mar  2 10:36:05 2025       \n",
      "+-----------------------------------------------------------------------------+\n",
      "| NVIDIA-SMI 528.97       Driver Version: 528.97       CUDA Version: 12.0     |\n",
      "|-------------------------------+----------------------+----------------------+\n",
      "| GPU  Name            TCC/WDDM | Bus-Id        Disp.A | Volatile Uncorr. ECC |\n",
      "| Fan  Temp  Perf  Pwr:Usage/Cap|         Memory-Usage | GPU-Util  Compute M. |\n",
      "|                               |                      |               MIG M. |\n",
      "|===============================+======================+======================|\n",
      "|   0  NVIDIA GeForce ... WDDM  | 00000000:01:00.0  On |                  N/A |\n",
      "| N/A   45C    P4     6W /  25W |   1365MiB /  8188MiB |      1%      Default |\n",
      "|                               |                      |                  N/A |\n",
      "+-------------------------------+----------------------+----------------------+\n",
      "                                                                               \n",
      "+-----------------------------------------------------------------------------+\n",
      "| Processes:                                                                  |\n",
      "|  GPU   GI   CI        PID   Type   Process name                  GPU Memory |\n",
      "|        ID   ID                                                   Usage      |\n",
      "|=============================================================================|\n",
      "|    0   N/A  N/A      1712    C+G   ...n1h2txyewy\\SearchHost.exe    N/A      |\n",
      "|    0   N/A  N/A      3232    C+G   ...cw5n1h2txyewy\\LockApp.exe    N/A      |\n",
      "|    0   N/A  N/A      4692    C+G   ...logioptionsplus_agent.exe    N/A      |\n",
      "|    0   N/A  N/A      8392    C+G   ...optionsplus_logivoice.exe    N/A      |\n",
      "|    0   N/A  N/A      8820    C+G   ...e6\\promecefpluginhost.exe    N/A      |\n",
      "|    0   N/A  N/A     11292    C+G   C:\\Windows\\explorer.exe         N/A      |\n",
      "|    0   N/A  N/A     17180      C   ...\\envs\\cs182hw1\\python.exe    N/A      |\n",
      "|    0   N/A  N/A     18748    C+G   ...4.0.4.0\\GoogleDriveFS.exe    N/A      |\n",
      "|    0   N/A  N/A     19052    C+G   ...065.92\\msedgewebview2.exe    N/A      |\n",
      "|    0   N/A  N/A     22452    C+G   ...artMenuExperienceHost.exe    N/A      |\n",
      "|    0   N/A  N/A     23320    C+G   ...perience\\NVIDIA Share.exe    N/A      |\n",
      "|    0   N/A  N/A     25060    C+G   ...ws\\System32\\ShellHost.exe    N/A      |\n",
      "|    0   N/A  N/A     25156    C+G   ...icrosoft VS Code\\Code.exe    N/A      |\n",
      "|    0   N/A  N/A     27248    C+G   ...2txyewy\\TextInputHost.exe    N/A      |\n",
      "+-----------------------------------------------------------------------------+\n"
     ]
    }
   ],
   "source": [
    "!nvidia-smi"
   ]
  },
  {
   "cell_type": "code",
   "execution_count": 12,
   "metadata": {},
   "outputs": [
    {
     "name": "stdout",
     "output_type": "stream",
     "text": [
      "Total Parameters: 58164298\n",
      "Size of the model: 58.16MB\n"
     ]
    }
   ],
   "source": [
    "total_params = sum(p.numel() for p in model.parameters() if p.requires_grad)\n",
    "print(\"Total Parameters:\", total_params)\n",
    "print(f\"Size of the model: {total_params / (1000 ** 2):.2f}MB\")"
   ]
  },
  {
   "cell_type": "code",
   "execution_count": 13,
   "metadata": {},
   "outputs": [
    {
     "data": {
      "text/plain": [
       "'Allocated memory: 0.23 GB'"
      ]
     },
     "execution_count": 13,
     "metadata": {},
     "output_type": "execute_result"
    }
   ],
   "source": [
    "get_allocated_memory_str()"
   ]
  },
  {
   "cell_type": "code",
   "execution_count": 14,
   "metadata": {},
   "outputs": [
    {
     "data": {
      "text/plain": [
       "1365.0"
      ]
     },
     "execution_count": 14,
     "metadata": {},
     "output_type": "execute_result"
    }
   ],
   "source": [
    "get_gpu_memory_usage()"
   ]
  },
  {
   "cell_type": "code",
   "execution_count": 15,
   "metadata": {},
   "outputs": [
    {
     "name": "stdout",
     "output_type": "stream",
     "text": [
      "CUDA Context Overhead: 33.973 MB\n"
     ]
    }
   ],
   "source": [
    "after_load = torch.cuda.memory_reserved(device) / 1e6\n",
    "model_size_mb = (total_params * 4) / (1024 ** 2)\n",
    "\n",
    "cuda_context_overhead = after_load - model_size_mb\n",
    "print(f\"CUDA Context Overhead: {cuda_context_overhead:.3f} MB\")"
   ]
  },
  {
   "cell_type": "markdown",
   "metadata": {
    "id": "yXTxNxbZBkig"
   },
   "source": [
    "Note that the actual memory usage on the GPU is anywhere between ~500-1000 MB larger than the model size computed above. Why? In addition to loading the model, the GPU also needs to be initialized with essential kernels, memory allocation tables, and other GPU related state necessary to using the GPU. This is called the CUDA context.\n",
    "\n",
    "The CUDA context can be considered a fixed memory overhead for using a Nvidia GPU."
   ]
  },
  {
   "cell_type": "markdown",
   "metadata": {
    "id": "ogi7Sxelae8x"
   },
   "source": [
    "# Questions (answer in written submission)\n",
    "**Q1a. How many trainable parameters does ResNet-152 have? What is the estimated size of the model in MB?**\n",
    "\n",
    "<span style=\"color:skyblue\">Answer:</span>\n",
    "As the code shown above, the total number of parameters in ResNet-152 is **58,164,298**. The estimated size of the model is **58.16MB**.\n",
    "\n",
    "**Q1b. Which GPU are you using? How much total memory does it have?**\n",
    "\n",
    "<span style=\"color:skyblue\">Answer:</span>\n",
    "I am using my local GPU, with total memory of **0.23 GB**.\n",
    "\n",
    "**Q1c. After you load the model into memory, what is the memory overhead (size) of the CUDA context loaded with the model?**\n",
    "\n",
    "> Hint - CUDA context size in this example is roughly (total GPU memory utilization - model size) \n",
    "\n",
    "<span style=\"color:skyblue\">Answer:</span>\n",
    "The memory overhead is about 33.973 MB."
   ]
  },
  {
   "cell_type": "markdown",
   "metadata": {
    "id": "4G_iw8Sju0NX"
   },
   "source": [
    "# 2. Optimizer memory usage\n",
    "\n",
    "The choice of optimizer affects the memory used to train your model. Different optimizers have different memory requirements for storing the gradients and the optimizer state. For example, the Adam optimizer stores a moving average of the gradients and the squared gradients for each parameter, which requires more memory than SGD.\n",
    "\n",
    "Let's compare the memory usage of three different optimizers - SGD, SGD with momentum and ADAM.\n",
    "\n",
    "Below we define a simple function to profile the memory usage for a given optimizer.\n"
   ]
  },
  {
   "cell_type": "code",
   "execution_count": 16,
   "metadata": {
    "id": "eyqCye0yu8mX"
   },
   "outputs": [],
   "source": [
    "# Training function\n",
    "def train_model(model, train_loader, criterion, optimizer, epochs=10, memory_log_path=None):\n",
    "    os.makedirs(os.path.dirname(memory_log_path), exist_ok=True)\n",
    "    with open(memory_log_path, 'w') as f:\n",
    "      f.write(\",\".join(MEMORY_LOG_FMT) + \"\\n\")\n",
    "    for epoch in range(epochs):\n",
    "        model.train()\n",
    "        for i, (images, labels) in enumerate(train_loader):\n",
    "            images = images.to(device)\n",
    "            labels = labels.to(device)\n",
    "            with torch.set_grad_enabled(True):\n",
    "              # Zero all gradients\n",
    "              optimizer.zero_grad()\n",
    "\n",
    "              # Get outputs\n",
    "              outputs = model(images)\n",
    "\n",
    "              # Compute loss\n",
    "              loss = criterion(outputs, labels)\n",
    "              loss.backward()\n",
    "\n",
    "              # Run optimizer update step\n",
    "              optimizer.step()\n",
    "\n",
    "              # Print stats every 100 iterations\n",
    "              if i % 100 == 0:\n",
    "                  gpu_memory_usage = get_gpu_memory_usage()\n",
    "                  print('Epoch [{}/{}], Step [{}/{}], Loss: {:.4f}, GPU Mem: {}'.format(epoch+1, epochs, i+1, len(train_loader), loss.item(), gpu_memory_usage))\n",
    "                  memory_log = [str(time.time()), str(gpu_memory_usage)]\n",
    "                  with open(memory_log_path, 'a') as f:\n",
    "                    f.write(\",\".join(memory_log) + \"\\n\") \n",
    "            del loss, outputs, images, labels  # To get accurate memory usage info\n",
    "\n",
    "# Memory profiling function\n",
    "def profile_mem_usage(optimizer_str):\n",
    "    \"\"\"\n",
    "    Profiles the memory usage of ResNet-152 on CIFAR-10 with the specified optimizer.\n",
    "\n",
    "    optimizer_str: str - Can be either of 'SGD', 'SGD_WITH_MOMENTUM' and 'ADAM'\n",
    "    \"\"\"\n",
    "    # Clean up any dangling objects\n",
    "    cleanup_memory()\n",
    "    BATCH_SIZE = 8\n",
    "\n",
    "    # Since we just want to inspect memory usage, run only one minibatch\n",
    "    subsampled_data = torch.utils.data.Subset(data_train, range(0, BATCH_SIZE))\n",
    "    train_loader = torch.utils.data.DataLoader(dataset=subsampled_data, \n",
    "                                               batch_size=BATCH_SIZE, \n",
    "                                               shuffle=True)\n",
    "\n",
    "    # Load model and define loss function\n",
    "    model = torchvision.models.resnet152(weights=None, num_classes=10)\n",
    "    model.to(device)\n",
    "    criterion = torch.nn.CrossEntropyLoss()\n",
    "\n",
    "    # Choose optimizer\n",
    "    if optimizer_str == 'SGD':\n",
    "        optimizer = torch.optim.SGD(model.parameters(), lr=0.001)\n",
    "    elif optimizer_str == 'SGD_WITH_MOMENTUM':\n",
    "        optimizer = torch.optim.SGD(model.parameters(), lr=0.001, momentum=0.9)\n",
    "    elif optimizer_str == 'ADAM':\n",
    "        optimizer = torch.optim.Adam(model.parameters(), lr=0.001)\n",
    "    else:\n",
    "        raise NotImplementedError\n",
    "\n",
    "    memory_log_path = ROOT_PATH + f'logs/resnet152__{optimizer_str}.csv'\n",
    "    train_model(model, train_loader, criterion, optimizer, epochs=1, memory_log_path=memory_log_path)\n",
    "    print(f\"Memory usage log for {optimizer_str} stored at {memory_log_path}. Restart your runtime (Runtime->Restart Runtime) before running for other optimizers!\")"
   ]
  },
  {
   "cell_type": "markdown",
   "metadata": {
    "id": "505p5gyMjDax"
   },
   "source": [
    "## Run memory profiling for various optimizers!\n",
    "\n",
    "In the cell below, run the `profile_mem_usage` method with three optimizers - \n",
    "`'SGD', 'SGD_WITH_MOMENTUM', 'ADAM'`.\n",
    "\n",
    "🎇 NOTE 🎇 - to get accurate memory utilization measurements, you <u>**should restart your runtime between invoking `profile_mem_usage` for different optimizers!**</u>\n",
    "\n",
    "There is state in GPU memory that is not collect by explicitly calling the garbage collector, and thus restarting the runtime is necessary. Your files in colab should persist across runs. "
   ]
  },
  {
   "cell_type": "code",
   "execution_count": 20,
   "metadata": {
    "colab": {
     "base_uri": "https://localhost:8080/"
    },
    "id": "LHpW0sPL_LTW",
    "outputId": "4b8a40fe-3c7b-48f2-bd26-6bb751a25774"
   },
   "outputs": [
    {
     "name": "stdout",
     "output_type": "stream",
     "text": [
      "Epoch [1/1], Step [1/1], Loss: 2.1893, GPU Mem: 4516.0\n",
      "Memory usage log for ADAM stored at /content/cs182hw4/logs/resnet152__ADAM.csv. Restart your runtime (Runtime->Restart Runtime) before running for other optimizers!\n"
     ]
    }
   ],
   "source": [
    "# TODO - Run this cell for different optimizers by uncommenting one line at a time.\n",
    "#\n",
    "# Make sure to restart the colab runtime between different runs else your \n",
    "# memory profiles may be inaccurate!\n",
    "\n",
    "\n",
    "# profile_mem_usage('SGD')\n",
    "# profile_mem_usage('SGD_WITH_MOMENTUM')\n",
    "profile_mem_usage('ADAM')"
   ]
  },
  {
   "cell_type": "markdown",
   "metadata": {
    "id": "ysB9xqLriq4M"
   },
   "source": [
    "## Analyzing memory usage profiles\n",
    "\n",
    "Now that you have run `profile_mem_usage` for different optimizers, let's print the memory usage we logged while training with each optimizer."
   ]
  },
  {
   "cell_type": "code",
   "execution_count": 21,
   "metadata": {
    "colab": {
     "base_uri": "https://localhost:8080/"
    },
    "id": "EkSQ6WSdcrvs",
    "outputId": "0312ec7a-bb46-436b-d16c-a05b7d533842"
   },
   "outputs": [
    {
     "name": "stdout",
     "output_type": "stream",
     "text": [
      "====== Memory Profiling Results ======\n",
      "SGD: 4489.0 MB\n",
      "SGD_WITH_MOMENTUM: 4393.0 MB\n",
      "ADAM: 4516.0 MB\n"
     ]
    }
   ],
   "source": [
    "OPTIMIZER_LIST = ['SGD', 'SGD_WITH_MOMENTUM', 'ADAM']\n",
    "memory_log_path = ROOT_PATH + 'logs/resnet152__{opt}.csv'\n",
    "\n",
    "def print_mem_profiling_results():\n",
    "    print(\"====== Memory Profiling Results ======\")\n",
    "    for opt in OPTIMIZER_LIST:\n",
    "        assert os.path.exists(memory_log_path.format(opt=opt)), f'Memory profile not found for {opt}. Have you run profile_mem_usage({opt}) in the above cell?'\n",
    "        df = pd.read_csv(memory_log_path.format(opt=opt))\n",
    "        mem_usage = df['memUsage'].iloc[0]\n",
    "        print(f'{opt}: {mem_usage} MB')\n",
    "\n",
    "print_mem_profiling_results()"
   ]
  },
  {
   "cell_type": "markdown",
   "metadata": {
    "id": "_RgLrnKzu6RM"
   },
   "source": [
    "\n",
    "## Questions (answer in written submission)\n",
    "**2a. What is the total memory utilization during training with SGD, SGD with momentum and Adam optimizers?** Report in MB individually for each optimizer.\n",
    "\n",
    "<span style=\"color:skyblue\">Answer:</span>\n",
    "- SGD: 4489 MB\n",
    "- SGD with momentum: 4394 MB\n",
    "- Adam: 4516 MB\n",
    "\n",
    "**2b. Which optimizer consumes the most memory? Why?**\n",
    "\n",
    "> 💡 Hint - refer to the weight update rule for each optimizer. Which one requires the most parameters to be stored in memory?\n",
    "\n",
    "<span style=\"color:skyblue\">Answer:</span>\n",
    "Adam consumes the most memory. Adam requires more memory because it stores a moving average of the gradients and the squared gradients for each parameter, which requires more memory than SGD and SGD with momentum."
   ]
  },
  {
   "cell_type": "markdown",
   "metadata": {
    "id": "J3AOR_YfWnbW"
   },
   "source": [
    "# 3. Investigating the effect of batch size on convergence and GPU memory\n",
    "Batch size is an important parameter in training neural networks that can have a significant effect on GPU memory usage. The larger the batch size, the more data the model processes at once, and therefore, the more GPU memory it requires to store the inputs, activations, and gradients.\n",
    "\n",
    "As the batch size increases, the memory required to store the intermediate results during training increases linearly. This is because the model needs to keep track of more activations and gradients for each layer. However, the actual memory usage can also depend on the specific neural network architecture, as some models require more memory than others to process the same batch size.\n",
    "\n",
    "If the batch size is too large to fit in the available GPU memory, the training process will fail with an out-of-memory error. On the other hand, if the batch size is too small, the training may be slower due to inefficient use of the GPU, as the GPU may spend more time waiting for data to be transferred from CPU to GPU.\n",
    "\n",
    "Therefore, choosing an appropriate batch size is important to balance training speed and memory usage. This often involves some trial and error to find the largest batch size that can fit in the available GPU memory while still providing good training results.\n",
    "\n",
    "## Learning Rate and Batch Size\n",
    "\n",
    "Batch size and learning rate are closely related. When batch size is increased, the gradient estimate becomes less noisy because it is computed over more samples. As a result, the learning rate can be increased, allowing the optimization algorithm to take larger steps towards the optimum. This is because a larger batch size gives a more accurate estimate of the direction of the gradient and larger steps can reduce convergence time. \n",
    "\n",
    "Large batch training becomes particularly important in data-parallel distributed training, where extremely large batch sizes are distributed over many GPUs. The paper [\"Accurate, Large Minibatch SGD: Training ImageNet in 1 Hour\"](https://arxiv.org/pdf/1706.02677.pdf) is one of the earliest works showing how large batch training makes fast large scale distributed training possible. It also proposes a simple linear scaling rule for setting the learning rate for a given batch size, which we use to set learning rates in `LR_MAP` below.\n",
    "\n",
    "## Let's try training our model with different batch sizes\n",
    "In the below cells, we'll try to run training for different batch sizes and evaluate the performance.\n",
    "\n",
    "> Note - you may run out of memory for large batch sizes, and that is expected! Ignore those large batch sizes and stick with the batch sizes that can fit on your GPU.\n",
    "\n",
    "Let's first define helper functions."
   ]
  },
  {
   "cell_type": "code",
   "execution_count": 22,
   "metadata": {
    "id": "aUTeD0X9a2zA"
   },
   "outputs": [],
   "source": [
    "# Test function\n",
    "def test_model(model, test_loader, label='test'):\n",
    "    print(\"Testing model.\")\n",
    "    model.eval()\n",
    "    with torch.no_grad():\n",
    "        correct = 0\n",
    "        total = 0\n",
    "\n",
    "        for images, labels in test_loader:\n",
    "            images = images.to(device)\n",
    "            labels = labels.to(device)\n",
    "            outputs = model(images)\n",
    "\n",
    "            _, predicted = torch.max(outputs.data, 1)\n",
    "\n",
    "            correct += (predicted == labels).sum().item()\n",
    "            total += labels.size(0)\n",
    "\n",
    "        # Compute accuracy\n",
    "        accuracy = 100 * correct / total\n",
    "        print(f'Accuracy of the model on {label} images: {accuracy} %')\n",
    "        del outputs, images, labels  # To get accurate memory usage info\n",
    "    return accuracy\n",
    "\n",
    "# Training function\n",
    "def train_model(model, train_loader, criterion, optimizer, epochs=10, memory_log_path=None, test_loader = None):\n",
    "    os.makedirs(os.path.dirname(memory_log_path), exist_ok=True)\n",
    "    with open(memory_log_path, 'w') as f:\n",
    "      f.write(\",\".join(TRAIN_LOG_FMT) + \"\\n\")\n",
    "    for epoch in range(epochs):\n",
    "        model.train()\n",
    "        last_loss = 0\n",
    "        for i, (images, labels) in enumerate(train_loader):\n",
    "            images = images.to(device)\n",
    "            labels = labels.to(device)\n",
    "            with torch.set_grad_enabled(True):\n",
    "              # Zero all gradients\n",
    "              optimizer.zero_grad()\n",
    "\n",
    "              # Get outputs\n",
    "              outputs = model(images)\n",
    "\n",
    "              # Compute loss\n",
    "              loss = criterion(outputs, labels)\n",
    "              loss.backward()\n",
    "\n",
    "              # Run optimizer update step\n",
    "              optimizer.step()\n",
    "              \n",
    "              last_loss = loss.item()\n",
    "              # Print stats every 100 iterations\n",
    "              if i % 10 == 0:\n",
    "                  gpu_memory_usage = get_gpu_memory_usage()\n",
    "                  print('Epoch [{}/{}], Step [{}/{}], Loss: {:.4f}, GPU Mem: {}'.format(epoch+1, epochs, i+1, len(train_loader), last_loss, gpu_memory_usage))\n",
    "            del loss, outputs, images, labels  # To get accurate memory usage info\n",
    "\n",
    "        # Report test or train accuracy at the end of every epoch \n",
    "        if test_loader:\n",
    "          accuracy = test_model(model, test_loader, label='test')\n",
    "        else:\n",
    "          accuracy = test_model(model, train_loader, label='train')\n",
    "\n",
    "        # Log results\n",
    "        memory_log = [str(time.time()), str(epoch+1), str(gpu_memory_usage), str(last_loss), str(accuracy)]\n",
    "        with open(memory_log_path, 'a') as f:\n",
    "            f.write(\",\".join(memory_log) + \"\\n\") \n",
    "\n",
    "# Set learning rates for different batch sizes (emperically determined and linearly scaled)\n",
    "LR_MAP = {\n",
    "    4: 0.0001,\n",
    "    8: 0.0002,\n",
    "    16: 0.0004,\n",
    "    32: 0.0008,\n",
    "    64: 0.0016,\n",
    "    128: 0.0032,\n",
    "    256: 0.0064,\n",
    "    512: 0.0064,\n",
    "    1024: 0.0064\n",
    "}\n",
    "\n",
    "# Executor function\n",
    "def run_train(batch_size, epochs=10):\n",
    "    cleanup_memory()\n",
    "\n",
    "    lr = LR_MAP[batch_size]\n",
    "    print(f\"Training model with batch size {batch_size} and lr {lr}.\")\n",
    "    \n",
    "    train_loader = torch.utils.data.DataLoader(dataset=subsampled_train_data, batch_size=batch_size, shuffle=True)\n",
    "\n",
    "    # We use a smaller model (resnet18) to train faster\n",
    "    model = torchvision.models.resnet18(weights=None, num_classes=10)\n",
    "    model.to(device)\n",
    "    criterion = torch.nn.CrossEntropyLoss()\n",
    "\n",
    "    optimizer = torch.optim.SGD(model.parameters(), lr=lr, momentum=0.9)\n",
    "    \n",
    "    # Output path for memory logs\n",
    "    memory_log_path = ROOT_PATH + f'logs/resnet18__{batch_size}.csv'\n",
    "\n",
    "    # Run training!\n",
    "    train_model(model, train_loader, criterion, optimizer, epochs=epochs, memory_log_path=memory_log_path)"
   ]
  },
  {
   "cell_type": "markdown",
   "metadata": {
    "id": "jO45WqejxC8q"
   },
   "source": [
    "## Run training for different batch sizes and record their memory utilization!\n",
    "\n",
    "In the cell below, **run the `run_train` method for batch sizes 4, 16, 64, 256, 1024**.\n",
    "\n",
    "This method will log the loss, accuracy, wall clock time and memory utilization under `/content/cs182hw4/logs` directory, so you can safely restart the runtime between invocations.\n",
    "\n",
    "Like before, to get accurate memory utilization measurements, you should <u>**restart your runtime between invoking `run_train` for different batch sizes!**</u>"
   ]
  },
  {
   "cell_type": "code",
   "execution_count": 27,
   "metadata": {
    "id": "E1ruoh1X5bD3"
   },
   "outputs": [
    {
     "name": "stdout",
     "output_type": "stream",
     "text": [
      "Training model with batch size 1024 and lr 0.0064.\n"
     ]
    },
    {
     "ename": "OutOfMemoryError",
     "evalue": "CUDA out of memory. Tried to allocate 784.00 MiB. GPU 0 has a total capacity of 8.00 GiB of which 0 bytes is free. Of the allocated memory 6.98 GiB is allocated by PyTorch, and 24.87 MiB is reserved by PyTorch but unallocated. If reserved but unallocated memory is large try setting PYTORCH_CUDA_ALLOC_CONF=expandable_segments:True to avoid fragmentation.  See documentation for Memory Management  (https://pytorch.org/docs/stable/notes/cuda.html#environment-variables)",
     "output_type": "error",
     "traceback": [
      "\u001b[1;31m---------------------------------------------------------------------------\u001b[0m",
      "\u001b[1;31mOutOfMemoryError\u001b[0m                          Traceback (most recent call last)",
      "Cell \u001b[1;32mIn[27], line 13\u001b[0m\n\u001b[0;32m      7\u001b[0m epochs \u001b[38;5;241m=\u001b[39m \u001b[38;5;241m10\u001b[39m\n\u001b[0;32m      9\u001b[0m \u001b[38;5;66;03m# run_train(4, epochs=epochs)\u001b[39;00m\n\u001b[0;32m     10\u001b[0m \u001b[38;5;66;03m# run_train(16, epochs=epochs)\u001b[39;00m\n\u001b[0;32m     11\u001b[0m \u001b[38;5;66;03m# run_train(64, epochs=epochs)\u001b[39;00m\n\u001b[0;32m     12\u001b[0m \u001b[38;5;66;03m# run_train(256, epochs=epochs)\u001b[39;00m\n\u001b[1;32m---> 13\u001b[0m \u001b[43mrun_train\u001b[49m\u001b[43m(\u001b[49m\u001b[38;5;241;43m1024\u001b[39;49m\u001b[43m,\u001b[49m\u001b[43m \u001b[49m\u001b[43mepochs\u001b[49m\u001b[38;5;241;43m=\u001b[39;49m\u001b[43mepochs\u001b[49m\u001b[43m)\u001b[49m\n",
      "Cell \u001b[1;32mIn[22], line 101\u001b[0m, in \u001b[0;36mrun_train\u001b[1;34m(batch_size, epochs)\u001b[0m\n\u001b[0;32m     98\u001b[0m memory_log_path \u001b[38;5;241m=\u001b[39m ROOT_PATH \u001b[38;5;241m+\u001b[39m \u001b[38;5;124mf\u001b[39m\u001b[38;5;124m'\u001b[39m\u001b[38;5;124mlogs/resnet18__\u001b[39m\u001b[38;5;132;01m{\u001b[39;00mbatch_size\u001b[38;5;132;01m}\u001b[39;00m\u001b[38;5;124m.csv\u001b[39m\u001b[38;5;124m'\u001b[39m\n\u001b[0;32m    100\u001b[0m \u001b[38;5;66;03m# Run training!\u001b[39;00m\n\u001b[1;32m--> 101\u001b[0m \u001b[43mtrain_model\u001b[49m\u001b[43m(\u001b[49m\u001b[43mmodel\u001b[49m\u001b[43m,\u001b[49m\u001b[43m \u001b[49m\u001b[43mtrain_loader\u001b[49m\u001b[43m,\u001b[49m\u001b[43m \u001b[49m\u001b[43mcriterion\u001b[49m\u001b[43m,\u001b[49m\u001b[43m \u001b[49m\u001b[43moptimizer\u001b[49m\u001b[43m,\u001b[49m\u001b[43m \u001b[49m\u001b[43mepochs\u001b[49m\u001b[38;5;241;43m=\u001b[39;49m\u001b[43mepochs\u001b[49m\u001b[43m,\u001b[49m\u001b[43m \u001b[49m\u001b[43mmemory_log_path\u001b[49m\u001b[38;5;241;43m=\u001b[39;49m\u001b[43mmemory_log_path\u001b[49m\u001b[43m)\u001b[49m\n",
      "Cell \u001b[1;32mIn[22], line 41\u001b[0m, in \u001b[0;36mtrain_model\u001b[1;34m(model, train_loader, criterion, optimizer, epochs, memory_log_path, test_loader)\u001b[0m\n\u001b[0;32m     38\u001b[0m optimizer\u001b[38;5;241m.\u001b[39mzero_grad()\n\u001b[0;32m     40\u001b[0m \u001b[38;5;66;03m# Get outputs\u001b[39;00m\n\u001b[1;32m---> 41\u001b[0m outputs \u001b[38;5;241m=\u001b[39m \u001b[43mmodel\u001b[49m\u001b[43m(\u001b[49m\u001b[43mimages\u001b[49m\u001b[43m)\u001b[49m\n\u001b[0;32m     43\u001b[0m \u001b[38;5;66;03m# Compute loss\u001b[39;00m\n\u001b[0;32m     44\u001b[0m loss \u001b[38;5;241m=\u001b[39m criterion(outputs, labels)\n",
      "File \u001b[1;32mc:\\Users\\22020\\.conda\\envs\\cs182hw1\\lib\\site-packages\\torch\\nn\\modules\\module.py:1553\u001b[0m, in \u001b[0;36mModule._wrapped_call_impl\u001b[1;34m(self, *args, **kwargs)\u001b[0m\n\u001b[0;32m   1551\u001b[0m     \u001b[38;5;28;01mreturn\u001b[39;00m \u001b[38;5;28mself\u001b[39m\u001b[38;5;241m.\u001b[39m_compiled_call_impl(\u001b[38;5;241m*\u001b[39margs, \u001b[38;5;241m*\u001b[39m\u001b[38;5;241m*\u001b[39mkwargs)  \u001b[38;5;66;03m# type: ignore[misc]\u001b[39;00m\n\u001b[0;32m   1552\u001b[0m \u001b[38;5;28;01melse\u001b[39;00m:\n\u001b[1;32m-> 1553\u001b[0m     \u001b[38;5;28;01mreturn\u001b[39;00m \u001b[38;5;28;43mself\u001b[39;49m\u001b[38;5;241;43m.\u001b[39;49m\u001b[43m_call_impl\u001b[49m\u001b[43m(\u001b[49m\u001b[38;5;241;43m*\u001b[39;49m\u001b[43margs\u001b[49m\u001b[43m,\u001b[49m\u001b[43m \u001b[49m\u001b[38;5;241;43m*\u001b[39;49m\u001b[38;5;241;43m*\u001b[39;49m\u001b[43mkwargs\u001b[49m\u001b[43m)\u001b[49m\n",
      "File \u001b[1;32mc:\\Users\\22020\\.conda\\envs\\cs182hw1\\lib\\site-packages\\torch\\nn\\modules\\module.py:1562\u001b[0m, in \u001b[0;36mModule._call_impl\u001b[1;34m(self, *args, **kwargs)\u001b[0m\n\u001b[0;32m   1557\u001b[0m \u001b[38;5;66;03m# If we don't have any hooks, we want to skip the rest of the logic in\u001b[39;00m\n\u001b[0;32m   1558\u001b[0m \u001b[38;5;66;03m# this function, and just call forward.\u001b[39;00m\n\u001b[0;32m   1559\u001b[0m \u001b[38;5;28;01mif\u001b[39;00m \u001b[38;5;129;01mnot\u001b[39;00m (\u001b[38;5;28mself\u001b[39m\u001b[38;5;241m.\u001b[39m_backward_hooks \u001b[38;5;129;01mor\u001b[39;00m \u001b[38;5;28mself\u001b[39m\u001b[38;5;241m.\u001b[39m_backward_pre_hooks \u001b[38;5;129;01mor\u001b[39;00m \u001b[38;5;28mself\u001b[39m\u001b[38;5;241m.\u001b[39m_forward_hooks \u001b[38;5;129;01mor\u001b[39;00m \u001b[38;5;28mself\u001b[39m\u001b[38;5;241m.\u001b[39m_forward_pre_hooks\n\u001b[0;32m   1560\u001b[0m         \u001b[38;5;129;01mor\u001b[39;00m _global_backward_pre_hooks \u001b[38;5;129;01mor\u001b[39;00m _global_backward_hooks\n\u001b[0;32m   1561\u001b[0m         \u001b[38;5;129;01mor\u001b[39;00m _global_forward_hooks \u001b[38;5;129;01mor\u001b[39;00m _global_forward_pre_hooks):\n\u001b[1;32m-> 1562\u001b[0m     \u001b[38;5;28;01mreturn\u001b[39;00m \u001b[43mforward_call\u001b[49m\u001b[43m(\u001b[49m\u001b[38;5;241;43m*\u001b[39;49m\u001b[43margs\u001b[49m\u001b[43m,\u001b[49m\u001b[43m \u001b[49m\u001b[38;5;241;43m*\u001b[39;49m\u001b[38;5;241;43m*\u001b[39;49m\u001b[43mkwargs\u001b[49m\u001b[43m)\u001b[49m\n\u001b[0;32m   1564\u001b[0m \u001b[38;5;28;01mtry\u001b[39;00m:\n\u001b[0;32m   1565\u001b[0m     result \u001b[38;5;241m=\u001b[39m \u001b[38;5;28;01mNone\u001b[39;00m\n",
      "File \u001b[1;32mc:\\Users\\22020\\.conda\\envs\\cs182hw1\\lib\\site-packages\\torchvision\\models\\resnet.py:285\u001b[0m, in \u001b[0;36mResNet.forward\u001b[1;34m(self, x)\u001b[0m\n\u001b[0;32m    284\u001b[0m \u001b[38;5;28;01mdef\u001b[39;00m \u001b[38;5;21mforward\u001b[39m(\u001b[38;5;28mself\u001b[39m, x: Tensor) \u001b[38;5;241m-\u001b[39m\u001b[38;5;241m>\u001b[39m Tensor:\n\u001b[1;32m--> 285\u001b[0m     \u001b[38;5;28;01mreturn\u001b[39;00m \u001b[38;5;28;43mself\u001b[39;49m\u001b[38;5;241;43m.\u001b[39;49m\u001b[43m_forward_impl\u001b[49m\u001b[43m(\u001b[49m\u001b[43mx\u001b[49m\u001b[43m)\u001b[49m\n",
      "File \u001b[1;32mc:\\Users\\22020\\.conda\\envs\\cs182hw1\\lib\\site-packages\\torchvision\\models\\resnet.py:271\u001b[0m, in \u001b[0;36mResNet._forward_impl\u001b[1;34m(self, x)\u001b[0m\n\u001b[0;32m    269\u001b[0m x \u001b[38;5;241m=\u001b[39m \u001b[38;5;28mself\u001b[39m\u001b[38;5;241m.\u001b[39mbn1(x)\n\u001b[0;32m    270\u001b[0m x \u001b[38;5;241m=\u001b[39m \u001b[38;5;28mself\u001b[39m\u001b[38;5;241m.\u001b[39mrelu(x)\n\u001b[1;32m--> 271\u001b[0m x \u001b[38;5;241m=\u001b[39m \u001b[38;5;28;43mself\u001b[39;49m\u001b[38;5;241;43m.\u001b[39;49m\u001b[43mmaxpool\u001b[49m\u001b[43m(\u001b[49m\u001b[43mx\u001b[49m\u001b[43m)\u001b[49m\n\u001b[0;32m    273\u001b[0m x \u001b[38;5;241m=\u001b[39m \u001b[38;5;28mself\u001b[39m\u001b[38;5;241m.\u001b[39mlayer1(x)\n\u001b[0;32m    274\u001b[0m x \u001b[38;5;241m=\u001b[39m \u001b[38;5;28mself\u001b[39m\u001b[38;5;241m.\u001b[39mlayer2(x)\n",
      "File \u001b[1;32mc:\\Users\\22020\\.conda\\envs\\cs182hw1\\lib\\site-packages\\torch\\nn\\modules\\module.py:1553\u001b[0m, in \u001b[0;36mModule._wrapped_call_impl\u001b[1;34m(self, *args, **kwargs)\u001b[0m\n\u001b[0;32m   1551\u001b[0m     \u001b[38;5;28;01mreturn\u001b[39;00m \u001b[38;5;28mself\u001b[39m\u001b[38;5;241m.\u001b[39m_compiled_call_impl(\u001b[38;5;241m*\u001b[39margs, \u001b[38;5;241m*\u001b[39m\u001b[38;5;241m*\u001b[39mkwargs)  \u001b[38;5;66;03m# type: ignore[misc]\u001b[39;00m\n\u001b[0;32m   1552\u001b[0m \u001b[38;5;28;01melse\u001b[39;00m:\n\u001b[1;32m-> 1553\u001b[0m     \u001b[38;5;28;01mreturn\u001b[39;00m \u001b[38;5;28;43mself\u001b[39;49m\u001b[38;5;241;43m.\u001b[39;49m\u001b[43m_call_impl\u001b[49m\u001b[43m(\u001b[49m\u001b[38;5;241;43m*\u001b[39;49m\u001b[43margs\u001b[49m\u001b[43m,\u001b[49m\u001b[43m \u001b[49m\u001b[38;5;241;43m*\u001b[39;49m\u001b[38;5;241;43m*\u001b[39;49m\u001b[43mkwargs\u001b[49m\u001b[43m)\u001b[49m\n",
      "File \u001b[1;32mc:\\Users\\22020\\.conda\\envs\\cs182hw1\\lib\\site-packages\\torch\\nn\\modules\\module.py:1562\u001b[0m, in \u001b[0;36mModule._call_impl\u001b[1;34m(self, *args, **kwargs)\u001b[0m\n\u001b[0;32m   1557\u001b[0m \u001b[38;5;66;03m# If we don't have any hooks, we want to skip the rest of the logic in\u001b[39;00m\n\u001b[0;32m   1558\u001b[0m \u001b[38;5;66;03m# this function, and just call forward.\u001b[39;00m\n\u001b[0;32m   1559\u001b[0m \u001b[38;5;28;01mif\u001b[39;00m \u001b[38;5;129;01mnot\u001b[39;00m (\u001b[38;5;28mself\u001b[39m\u001b[38;5;241m.\u001b[39m_backward_hooks \u001b[38;5;129;01mor\u001b[39;00m \u001b[38;5;28mself\u001b[39m\u001b[38;5;241m.\u001b[39m_backward_pre_hooks \u001b[38;5;129;01mor\u001b[39;00m \u001b[38;5;28mself\u001b[39m\u001b[38;5;241m.\u001b[39m_forward_hooks \u001b[38;5;129;01mor\u001b[39;00m \u001b[38;5;28mself\u001b[39m\u001b[38;5;241m.\u001b[39m_forward_pre_hooks\n\u001b[0;32m   1560\u001b[0m         \u001b[38;5;129;01mor\u001b[39;00m _global_backward_pre_hooks \u001b[38;5;129;01mor\u001b[39;00m _global_backward_hooks\n\u001b[0;32m   1561\u001b[0m         \u001b[38;5;129;01mor\u001b[39;00m _global_forward_hooks \u001b[38;5;129;01mor\u001b[39;00m _global_forward_pre_hooks):\n\u001b[1;32m-> 1562\u001b[0m     \u001b[38;5;28;01mreturn\u001b[39;00m \u001b[43mforward_call\u001b[49m\u001b[43m(\u001b[49m\u001b[38;5;241;43m*\u001b[39;49m\u001b[43margs\u001b[49m\u001b[43m,\u001b[49m\u001b[43m \u001b[49m\u001b[38;5;241;43m*\u001b[39;49m\u001b[38;5;241;43m*\u001b[39;49m\u001b[43mkwargs\u001b[49m\u001b[43m)\u001b[49m\n\u001b[0;32m   1564\u001b[0m \u001b[38;5;28;01mtry\u001b[39;00m:\n\u001b[0;32m   1565\u001b[0m     result \u001b[38;5;241m=\u001b[39m \u001b[38;5;28;01mNone\u001b[39;00m\n",
      "File \u001b[1;32mc:\\Users\\22020\\.conda\\envs\\cs182hw1\\lib\\site-packages\\torch\\nn\\modules\\pooling.py:164\u001b[0m, in \u001b[0;36mMaxPool2d.forward\u001b[1;34m(self, input)\u001b[0m\n\u001b[0;32m    163\u001b[0m \u001b[38;5;28;01mdef\u001b[39;00m \u001b[38;5;21mforward\u001b[39m(\u001b[38;5;28mself\u001b[39m, \u001b[38;5;28minput\u001b[39m: Tensor):\n\u001b[1;32m--> 164\u001b[0m     \u001b[38;5;28;01mreturn\u001b[39;00m \u001b[43mF\u001b[49m\u001b[38;5;241;43m.\u001b[39;49m\u001b[43mmax_pool2d\u001b[49m\u001b[43m(\u001b[49m\u001b[38;5;28;43minput\u001b[39;49m\u001b[43m,\u001b[49m\u001b[43m \u001b[49m\u001b[38;5;28;43mself\u001b[39;49m\u001b[38;5;241;43m.\u001b[39;49m\u001b[43mkernel_size\u001b[49m\u001b[43m,\u001b[49m\u001b[43m \u001b[49m\u001b[38;5;28;43mself\u001b[39;49m\u001b[38;5;241;43m.\u001b[39;49m\u001b[43mstride\u001b[49m\u001b[43m,\u001b[49m\n\u001b[0;32m    165\u001b[0m \u001b[43m                        \u001b[49m\u001b[38;5;28;43mself\u001b[39;49m\u001b[38;5;241;43m.\u001b[39;49m\u001b[43mpadding\u001b[49m\u001b[43m,\u001b[49m\u001b[43m \u001b[49m\u001b[38;5;28;43mself\u001b[39;49m\u001b[38;5;241;43m.\u001b[39;49m\u001b[43mdilation\u001b[49m\u001b[43m,\u001b[49m\u001b[43m \u001b[49m\u001b[43mceil_mode\u001b[49m\u001b[38;5;241;43m=\u001b[39;49m\u001b[38;5;28;43mself\u001b[39;49m\u001b[38;5;241;43m.\u001b[39;49m\u001b[43mceil_mode\u001b[49m\u001b[43m,\u001b[49m\n\u001b[0;32m    166\u001b[0m \u001b[43m                        \u001b[49m\u001b[43mreturn_indices\u001b[49m\u001b[38;5;241;43m=\u001b[39;49m\u001b[38;5;28;43mself\u001b[39;49m\u001b[38;5;241;43m.\u001b[39;49m\u001b[43mreturn_indices\u001b[49m\u001b[43m)\u001b[49m\n",
      "File \u001b[1;32mc:\\Users\\22020\\.conda\\envs\\cs182hw1\\lib\\site-packages\\torch\\_jit_internal.py:503\u001b[0m, in \u001b[0;36mboolean_dispatch.<locals>.fn\u001b[1;34m(*args, **kwargs)\u001b[0m\n\u001b[0;32m    501\u001b[0m     \u001b[38;5;28;01mreturn\u001b[39;00m if_true(\u001b[38;5;241m*\u001b[39margs, \u001b[38;5;241m*\u001b[39m\u001b[38;5;241m*\u001b[39mkwargs)\n\u001b[0;32m    502\u001b[0m \u001b[38;5;28;01melse\u001b[39;00m:\n\u001b[1;32m--> 503\u001b[0m     \u001b[38;5;28;01mreturn\u001b[39;00m \u001b[43mif_false\u001b[49m\u001b[43m(\u001b[49m\u001b[38;5;241;43m*\u001b[39;49m\u001b[43margs\u001b[49m\u001b[43m,\u001b[49m\u001b[43m \u001b[49m\u001b[38;5;241;43m*\u001b[39;49m\u001b[38;5;241;43m*\u001b[39;49m\u001b[43mkwargs\u001b[49m\u001b[43m)\u001b[49m\n",
      "File \u001b[1;32mc:\\Users\\22020\\.conda\\envs\\cs182hw1\\lib\\site-packages\\torch\\nn\\functional.py:796\u001b[0m, in \u001b[0;36m_max_pool2d\u001b[1;34m(input, kernel_size, stride, padding, dilation, ceil_mode, return_indices)\u001b[0m\n\u001b[0;32m    794\u001b[0m \u001b[38;5;28;01mif\u001b[39;00m stride \u001b[38;5;129;01mis\u001b[39;00m \u001b[38;5;28;01mNone\u001b[39;00m:\n\u001b[0;32m    795\u001b[0m     stride \u001b[38;5;241m=\u001b[39m torch\u001b[38;5;241m.\u001b[39mjit\u001b[38;5;241m.\u001b[39mannotate(List[\u001b[38;5;28mint\u001b[39m], [])\n\u001b[1;32m--> 796\u001b[0m \u001b[38;5;28;01mreturn\u001b[39;00m \u001b[43mtorch\u001b[49m\u001b[38;5;241;43m.\u001b[39;49m\u001b[43mmax_pool2d\u001b[49m\u001b[43m(\u001b[49m\u001b[38;5;28;43minput\u001b[39;49m\u001b[43m,\u001b[49m\u001b[43m \u001b[49m\u001b[43mkernel_size\u001b[49m\u001b[43m,\u001b[49m\u001b[43m \u001b[49m\u001b[43mstride\u001b[49m\u001b[43m,\u001b[49m\u001b[43m \u001b[49m\u001b[43mpadding\u001b[49m\u001b[43m,\u001b[49m\u001b[43m \u001b[49m\u001b[43mdilation\u001b[49m\u001b[43m,\u001b[49m\u001b[43m \u001b[49m\u001b[43mceil_mode\u001b[49m\u001b[43m)\u001b[49m\n",
      "\u001b[1;31mOutOfMemoryError\u001b[0m: CUDA out of memory. Tried to allocate 784.00 MiB. GPU 0 has a total capacity of 8.00 GiB of which 0 bytes is free. Of the allocated memory 6.98 GiB is allocated by PyTorch, and 24.87 MiB is reserved by PyTorch but unallocated. If reserved but unallocated memory is large try setting PYTORCH_CUDA_ALLOC_CONF=expandable_segments:True to avoid fragmentation.  See documentation for Memory Management  (https://pytorch.org/docs/stable/notes/cuda.html#environment-variables)"
     ]
    }
   ],
   "source": [
    "# TODO - Run this cell for different batch sizes by uncommenting one line at a time.\n",
    "#\n",
    "# Make sure to restart the colab runtime between different runs else your \n",
    "# memory profiles may be inaccurate!\n",
    "\n",
    "# Run each batch size for at least 10 epochs. You can configure this to be larger if you like.\n",
    "epochs = 10\n",
    "\n",
    "# run_train(4, epochs=epochs)\n",
    "# run_train(16, epochs=epochs)\n",
    "# run_train(64, epochs=epochs)\n",
    "# run_train(256, epochs=epochs)\n",
    "run_train(1024, epochs=epochs)"
   ]
  },
  {
   "cell_type": "markdown",
   "metadata": {
    "id": "LEo8m_84yj2d"
   },
   "source": [
    "## Plot the loss, accuracy and memory utilization\n",
    "\n",
    "Once all logs have been generated under `/content/cs182hw4/logs`, run the cell below to plot loss and accuracy against wall clock time."
   ]
  },
  {
   "cell_type": "code",
   "execution_count": 31,
   "metadata": {
    "colab": {
     "base_uri": "https://localhost:8080/",
     "height": 399
    },
    "id": "Q-dj9-xjHb7C",
    "outputId": "a9195432-93ec-4c12-dd65-5c99837411bf"
   },
   "outputs": [
    {
     "data": {
      "image/png": "[encoded data removed]",
      "text/plain": [
       "<Figure size 640x480 with 1 Axes>"
      ]
     },
     "metadata": {},
     "output_type": "display_data"
    },
    {
     "name": "stdout",
     "output_type": "stream",
     "text": [
      "\n",
      "====== Memory Usage for different batch sizes =======\n",
      "4\t: 2918.0 MB\n",
      "16\t: 3622.0 MB\n",
      "64\t: 5270.0 MB\n",
      "256\t: 7818.0 MB\n"
     ]
    }
   ],
   "source": [
    "# Plotting scripts\n",
    "def get_df(batch_size):\n",
    "    path = ROOT_PATH + f'logs/resnet18__{batch_size}.csv'\n",
    "    assert os.path.exists(path), f'Memory profile not found for batch size {batch_size}. Have you run run_train({batch_size}) in the above cell?'\n",
    "    df = pd.read_csv(path)\n",
    "    # Create a wall time column\n",
    "    df['walltime'] = df['timestamp'] - df['timestamp'].iloc[0]\n",
    "    return df\n",
    "\n",
    "def plot_walltime_acc(batch_sizes):\n",
    "    plt.figure()\n",
    "    for bs in batch_sizes:\n",
    "        df=get_df(bs)\n",
    "        plt.plot(df['walltime'].to_numpy(), df['accuracy'].to_numpy(), label=f'batch_size: {bs}')\n",
    "    plt.xlabel('Wall clock time (s)')\n",
    "    plt.ylabel('Accuracy (%)')\n",
    "    plt.legend()\n",
    "    plt.title('Train Accuracy vs Walltime')\n",
    "    plt.show()\n",
    "\n",
    "def print_mem_usage(batch_sizes):\n",
    "    print(\"\\n====== Memory Usage for different batch sizes =======\")\n",
    "    for bs in batch_sizes:\n",
    "        df=get_df(bs)\n",
    "        mem_usage = df['memUsage'].iloc[-1]\n",
    "        print(f'{bs}\\t: {mem_usage} MB')\n",
    "\n",
    "batch_sizes = [4, 16, 64, 256]\n",
    "plot_walltime_acc(batch_sizes)\n",
    "print_mem_usage(batch_sizes)"
   ]
  },
  {
   "cell_type": "markdown",
   "metadata": {
    "id": "gkBHFlSf0zKE"
   },
   "source": [
    "## Questions (answer in written submission)\n",
    "**3a. What is the memory utilization for different batch sizes (4, 16, 64, 256)? What is the largest batch size you were able to train?**\n",
    "\n",
    "- Batch size 4: 2918 MB\n",
    "- Batch size 16: 3622 MB\n",
    "- Batch size 64: 5270 MB\n",
    "- Batch size 256: 7818 MB\n",
    "\n",
    "**3b. Which batch size gave you the highest accuracy at the end of 10 epochs?**\n",
    "\n",
    "Batch size 256 gave the highest accuracy at the end of 10 epochs.\n",
    "\n",
    "**3c. Which batch size completed 10 epochs the fastest (least wall clock time)? Why?**\n",
    "\n",
    "Batch size 256 completed 10 epochs the fastest. This is because larger batch sizes allow for more efficient use of the GPU, as the GPU may spend more time waiting for data to be transferred from CPU to GPU.\n",
    "\n",
    "**3d. Attach your training accuracy vs wall time plots with your written  submission.**\n"
   ]
  }
 ],
 "metadata": {
  "accelerator": "GPU",
  "colab": {
   "provenance": []
  },
  "gpuClass": "standard",
  "kernelspec": {
   "display_name": "cs182hw1",
   "language": "python",
   "name": "python3"
  },
  "language_info": {
   "codemirror_mode": {
    "name": "ipython",
    "version": 3
   },
   "file_extension": ".py",
   "mimetype": "text/x-python",
   "name": "python",
   "nbconvert_exporter": "python",
   "pygments_lexer": "ipython3",
   "version": "3.8.20"
  }
 },
 "nbformat": 4,
 "nbformat_minor": 0
}
